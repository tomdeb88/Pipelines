{
 "cells": [
  {
   "cell_type": "code",
   "execution_count": 416,
   "id": "969a0477",
   "metadata": {},
   "outputs": [],
   "source": [
    "import pandas as pd\n",
    "import numpy as np\n",
    "from sklearn.model_selection import train_test_split\n",
    "from sklearn.impute import SimpleImputer\n",
    "from sklearn.preprocessing import StandardScaler\n",
    "import warnings\n",
    "warnings.filterwarnings('ignore')\n",
    "from sklearn.pipeline import Pipeline\n",
    "from sklearn.linear_model import LogisticRegression\n",
    "from sklearn.metrics import classification_report, confusion_matrix, f1_score\n",
    "import seaborn as sns\n",
    "import matplotlib.pyplot as plt"
   ]
  },
  {
   "cell_type": "code",
   "execution_count": 417,
   "id": "1dd90e66",
   "metadata": {},
   "outputs": [],
   "source": [
    "df= pd.read_csv('penguins.csv')"
   ]
  },
  {
   "cell_type": "code",
   "execution_count": 418,
   "id": "abc21921",
   "metadata": {},
   "outputs": [
    {
     "data": {
      "text/html": [
       "<div>\n",
       "<style scoped>\n",
       "    .dataframe tbody tr th:only-of-type {\n",
       "        vertical-align: middle;\n",
       "    }\n",
       "\n",
       "    .dataframe tbody tr th {\n",
       "        vertical-align: top;\n",
       "    }\n",
       "\n",
       "    .dataframe thead th {\n",
       "        text-align: right;\n",
       "    }\n",
       "</style>\n",
       "<table border=\"1\" class=\"dataframe\">\n",
       "  <thead>\n",
       "    <tr style=\"text-align: right;\">\n",
       "      <th></th>\n",
       "      <th>CulmenLength</th>\n",
       "      <th>CulmenDepth</th>\n",
       "      <th>FlipperLength</th>\n",
       "      <th>BodyMass</th>\n",
       "      <th>Species</th>\n",
       "    </tr>\n",
       "  </thead>\n",
       "  <tbody>\n",
       "    <tr>\n",
       "      <th>0</th>\n",
       "      <td>39.1</td>\n",
       "      <td>18.7</td>\n",
       "      <td>181.0</td>\n",
       "      <td>3750.0</td>\n",
       "      <td>0</td>\n",
       "    </tr>\n",
       "    <tr>\n",
       "      <th>1</th>\n",
       "      <td>39.5</td>\n",
       "      <td>17.4</td>\n",
       "      <td>186.0</td>\n",
       "      <td>3800.0</td>\n",
       "      <td>0</td>\n",
       "    </tr>\n",
       "    <tr>\n",
       "      <th>2</th>\n",
       "      <td>40.3</td>\n",
       "      <td>18.0</td>\n",
       "      <td>195.0</td>\n",
       "      <td>3250.0</td>\n",
       "      <td>0</td>\n",
       "    </tr>\n",
       "    <tr>\n",
       "      <th>3</th>\n",
       "      <td>NaN</td>\n",
       "      <td>NaN</td>\n",
       "      <td>NaN</td>\n",
       "      <td>NaN</td>\n",
       "      <td>0</td>\n",
       "    </tr>\n",
       "    <tr>\n",
       "      <th>4</th>\n",
       "      <td>36.7</td>\n",
       "      <td>19.3</td>\n",
       "      <td>193.0</td>\n",
       "      <td>3450.0</td>\n",
       "      <td>0</td>\n",
       "    </tr>\n",
       "  </tbody>\n",
       "</table>\n",
       "</div>"
      ],
      "text/plain": [
       "   CulmenLength  CulmenDepth  FlipperLength  BodyMass  Species\n",
       "0          39.1         18.7          181.0    3750.0        0\n",
       "1          39.5         17.4          186.0    3800.0        0\n",
       "2          40.3         18.0          195.0    3250.0        0\n",
       "3           NaN          NaN            NaN       NaN        0\n",
       "4          36.7         19.3          193.0    3450.0        0"
      ]
     },
     "execution_count": 418,
     "metadata": {},
     "output_type": "execute_result"
    }
   ],
   "source": [
    "df.head()"
   ]
  },
  {
   "cell_type": "code",
   "execution_count": 419,
   "id": "0b406671",
   "metadata": {},
   "outputs": [
    {
     "data": {
      "text/plain": [
       "CulmenLength     2\n",
       "CulmenDepth      2\n",
       "FlipperLength    2\n",
       "BodyMass         2\n",
       "Species          0\n",
       "dtype: int64"
      ]
     },
     "execution_count": 419,
     "metadata": {},
     "output_type": "execute_result"
    }
   ],
   "source": [
    "df.isnull().sum()"
   ]
  },
  {
   "cell_type": "code",
   "execution_count": 420,
   "id": "3c574e3e",
   "metadata": {},
   "outputs": [],
   "source": [
    "X=df.drop(['Species'],axis=1).copy()\n",
    "y=df['Species'].copy()"
   ]
  },
  {
   "cell_type": "code",
   "execution_count": 421,
   "id": "6d167294",
   "metadata": {},
   "outputs": [],
   "source": [
    "X_train,X_test,y_train,y_test=train_test_split(X,y,test_size=0.25,stratify=y)"
   ]
  },
  {
   "cell_type": "code",
   "execution_count": 422,
   "id": "b90e8f5c",
   "metadata": {},
   "outputs": [],
   "source": [
    "used_features=['CulmenLength', 'CulmenDepth', 'FlipperLength', 'BodyMass']"
   ]
  },
  {
   "cell_type": "code",
   "execution_count": 423,
   "id": "f30d5517",
   "metadata": {},
   "outputs": [
    {
     "data": {
      "text/plain": [
       "['CulmenLength', 'CulmenDepth', 'FlipperLength', 'BodyMass']"
      ]
     },
     "execution_count": 423,
     "metadata": {},
     "output_type": "execute_result"
    }
   ],
   "source": [
    "used_features"
   ]
  },
  {
   "cell_type": "code",
   "execution_count": 424,
   "id": "de50af6d",
   "metadata": {},
   "outputs": [],
   "source": [
    "#metryki\n",
    "metrics_dataframe = pd.DataFrame(columns = ['Model', 'F1_score'])\n",
    "def show_stats(model_name,model_predictions):\n",
    "    cm=confusion_matrix(y_test,model_predictions)\n",
    "    ax=sns.heatmap(cm,annot=True,fmt='.0f')\n",
    "    ax.set_xlabel('Predicted')\n",
    "    ax.set_ylabel('Actual')\n",
    "    plt.show()\n",
    "    \n",
    "    print(model_name.upper(),'\\n\\n')\n",
    "    print(classification_report(y_test, model_predictions))\n",
    "    \n",
    "    global metrics_dataframe\n",
    "    f1_metric =f1_score(y_test,model_predictions,average='weighted')\n",
    "    metrics_dataframe=metrics_dataframe._append({'Model':model_name,'F1_score':f1_metric},ignore_index=True)\n",
    "    \n",
    "    display( metrics_dataframe.sort_values(by='F1_score',ascending=False))"
   ]
  },
  {
   "cell_type": "code",
   "execution_count": 425,
   "id": "2475518c",
   "metadata": {},
   "outputs": [],
   "source": [
    "num_prep=Pipeline(steps=[('imput_missing',SimpleImputer(strategy='mean')),\n",
    "                        ('standardization',StandardScaler())])"
   ]
  },
  {
   "cell_type": "code",
   "execution_count": null,
   "id": "b317171d",
   "metadata": {},
   "outputs": [],
   "source": []
  },
  {
   "cell_type": "code",
   "execution_count": 426,
   "id": "8399bac2",
   "metadata": {},
   "outputs": [],
   "source": [
    "model_v1=Pipeline(steps=[('preprocessing',num_prep),('classifier',LogisticRegression())])"
   ]
  },
  {
   "cell_type": "code",
   "execution_count": 427,
   "id": "513fe9fd",
   "metadata": {},
   "outputs": [
    {
     "data": {
      "text/html": [
       "<style>#sk-container-id-21 {color: black;}#sk-container-id-21 pre{padding: 0;}#sk-container-id-21 div.sk-toggleable {background-color: white;}#sk-container-id-21 label.sk-toggleable__label {cursor: pointer;display: block;width: 100%;margin-bottom: 0;padding: 0.3em;box-sizing: border-box;text-align: center;}#sk-container-id-21 label.sk-toggleable__label-arrow:before {content: \"▸\";float: left;margin-right: 0.25em;color: #696969;}#sk-container-id-21 label.sk-toggleable__label-arrow:hover:before {color: black;}#sk-container-id-21 div.sk-estimator:hover label.sk-toggleable__label-arrow:before {color: black;}#sk-container-id-21 div.sk-toggleable__content {max-height: 0;max-width: 0;overflow: hidden;text-align: left;background-color: #f0f8ff;}#sk-container-id-21 div.sk-toggleable__content pre {margin: 0.2em;color: black;border-radius: 0.25em;background-color: #f0f8ff;}#sk-container-id-21 input.sk-toggleable__control:checked~div.sk-toggleable__content {max-height: 200px;max-width: 100%;overflow: auto;}#sk-container-id-21 input.sk-toggleable__control:checked~label.sk-toggleable__label-arrow:before {content: \"▾\";}#sk-container-id-21 div.sk-estimator input.sk-toggleable__control:checked~label.sk-toggleable__label {background-color: #d4ebff;}#sk-container-id-21 div.sk-label input.sk-toggleable__control:checked~label.sk-toggleable__label {background-color: #d4ebff;}#sk-container-id-21 input.sk-hidden--visually {border: 0;clip: rect(1px 1px 1px 1px);clip: rect(1px, 1px, 1px, 1px);height: 1px;margin: -1px;overflow: hidden;padding: 0;position: absolute;width: 1px;}#sk-container-id-21 div.sk-estimator {font-family: monospace;background-color: #f0f8ff;border: 1px dotted black;border-radius: 0.25em;box-sizing: border-box;margin-bottom: 0.5em;}#sk-container-id-21 div.sk-estimator:hover {background-color: #d4ebff;}#sk-container-id-21 div.sk-parallel-item::after {content: \"\";width: 100%;border-bottom: 1px solid gray;flex-grow: 1;}#sk-container-id-21 div.sk-label:hover label.sk-toggleable__label {background-color: #d4ebff;}#sk-container-id-21 div.sk-serial::before {content: \"\";position: absolute;border-left: 1px solid gray;box-sizing: border-box;top: 0;bottom: 0;left: 50%;z-index: 0;}#sk-container-id-21 div.sk-serial {display: flex;flex-direction: column;align-items: center;background-color: white;padding-right: 0.2em;padding-left: 0.2em;position: relative;}#sk-container-id-21 div.sk-item {position: relative;z-index: 1;}#sk-container-id-21 div.sk-parallel {display: flex;align-items: stretch;justify-content: center;background-color: white;position: relative;}#sk-container-id-21 div.sk-item::before, #sk-container-id-21 div.sk-parallel-item::before {content: \"\";position: absolute;border-left: 1px solid gray;box-sizing: border-box;top: 0;bottom: 0;left: 50%;z-index: -1;}#sk-container-id-21 div.sk-parallel-item {display: flex;flex-direction: column;z-index: 1;position: relative;background-color: white;}#sk-container-id-21 div.sk-parallel-item:first-child::after {align-self: flex-end;width: 50%;}#sk-container-id-21 div.sk-parallel-item:last-child::after {align-self: flex-start;width: 50%;}#sk-container-id-21 div.sk-parallel-item:only-child::after {width: 0;}#sk-container-id-21 div.sk-dashed-wrapped {border: 1px dashed gray;margin: 0 0.4em 0.5em 0.4em;box-sizing: border-box;padding-bottom: 0.4em;background-color: white;}#sk-container-id-21 div.sk-label label {font-family: monospace;font-weight: bold;display: inline-block;line-height: 1.2em;}#sk-container-id-21 div.sk-label-container {text-align: center;}#sk-container-id-21 div.sk-container {/* jupyter's `normalize.less` sets `[hidden] { display: none; }` but bootstrap.min.css set `[hidden] { display: none !important; }` so we also need the `!important` here to be able to override the default hidden behavior on the sphinx rendered scikit-learn.org. See: https://github.com/scikit-learn/scikit-learn/issues/21755 */display: inline-block !important;position: relative;}#sk-container-id-21 div.sk-text-repr-fallback {display: none;}</style><div id=\"sk-container-id-21\" class=\"sk-top-container\"><div class=\"sk-text-repr-fallback\"><pre>Pipeline(steps=[(&#x27;preprocessing&#x27;,\n",
       "                 Pipeline(steps=[(&#x27;imput_missing&#x27;, SimpleImputer()),\n",
       "                                 (&#x27;standardization&#x27;, StandardScaler())])),\n",
       "                (&#x27;classifier&#x27;, LogisticRegression())])</pre><b>In a Jupyter environment, please rerun this cell to show the HTML representation or trust the notebook. <br />On GitHub, the HTML representation is unable to render, please try loading this page with nbviewer.org.</b></div><div class=\"sk-container\" hidden><div class=\"sk-item sk-dashed-wrapped\"><div class=\"sk-label-container\"><div class=\"sk-label sk-toggleable\"><input class=\"sk-toggleable__control sk-hidden--visually\" id=\"sk-estimator-id-97\" type=\"checkbox\" ><label for=\"sk-estimator-id-97\" class=\"sk-toggleable__label sk-toggleable__label-arrow\">Pipeline</label><div class=\"sk-toggleable__content\"><pre>Pipeline(steps=[(&#x27;preprocessing&#x27;,\n",
       "                 Pipeline(steps=[(&#x27;imput_missing&#x27;, SimpleImputer()),\n",
       "                                 (&#x27;standardization&#x27;, StandardScaler())])),\n",
       "                (&#x27;classifier&#x27;, LogisticRegression())])</pre></div></div></div><div class=\"sk-serial\"><div class=\"sk-item\"><div class=\"sk-label-container\"><div class=\"sk-label sk-toggleable\"><input class=\"sk-toggleable__control sk-hidden--visually\" id=\"sk-estimator-id-98\" type=\"checkbox\" ><label for=\"sk-estimator-id-98\" class=\"sk-toggleable__label sk-toggleable__label-arrow\">preprocessing: Pipeline</label><div class=\"sk-toggleable__content\"><pre>Pipeline(steps=[(&#x27;imput_missing&#x27;, SimpleImputer()),\n",
       "                (&#x27;standardization&#x27;, StandardScaler())])</pre></div></div></div><div class=\"sk-serial\"><div class=\"sk-item\"><div class=\"sk-estimator sk-toggleable\"><input class=\"sk-toggleable__control sk-hidden--visually\" id=\"sk-estimator-id-99\" type=\"checkbox\" ><label for=\"sk-estimator-id-99\" class=\"sk-toggleable__label sk-toggleable__label-arrow\">SimpleImputer</label><div class=\"sk-toggleable__content\"><pre>SimpleImputer()</pre></div></div></div><div class=\"sk-item\"><div class=\"sk-estimator sk-toggleable\"><input class=\"sk-toggleable__control sk-hidden--visually\" id=\"sk-estimator-id-100\" type=\"checkbox\" ><label for=\"sk-estimator-id-100\" class=\"sk-toggleable__label sk-toggleable__label-arrow\">StandardScaler</label><div class=\"sk-toggleable__content\"><pre>StandardScaler()</pre></div></div></div></div></div><div class=\"sk-item\"><div class=\"sk-estimator sk-toggleable\"><input class=\"sk-toggleable__control sk-hidden--visually\" id=\"sk-estimator-id-101\" type=\"checkbox\" ><label for=\"sk-estimator-id-101\" class=\"sk-toggleable__label sk-toggleable__label-arrow\">LogisticRegression</label><div class=\"sk-toggleable__content\"><pre>LogisticRegression()</pre></div></div></div></div></div></div></div>"
      ],
      "text/plain": [
       "Pipeline(steps=[('preprocessing',\n",
       "                 Pipeline(steps=[('imput_missing', SimpleImputer()),\n",
       "                                 ('standardization', StandardScaler())])),\n",
       "                ('classifier', LogisticRegression())])"
      ]
     },
     "execution_count": 427,
     "metadata": {},
     "output_type": "execute_result"
    }
   ],
   "source": [
    "model_v1.fit(X_train,y_train)"
   ]
  },
  {
   "cell_type": "code",
   "execution_count": 428,
   "id": "201ce1b1",
   "metadata": {},
   "outputs": [],
   "source": [
    "predictions_1=model_v1.predict(X_test)"
   ]
  },
  {
   "cell_type": "code",
   "execution_count": null,
   "id": "f64d0b6c",
   "metadata": {},
   "outputs": [],
   "source": []
  },
  {
   "cell_type": "code",
   "execution_count": 429,
   "id": "62a28b7a",
   "metadata": {},
   "outputs": [
    {
     "data": {
      "image/png": "[encoded data removed]",
      "text/plain": [
       "<Figure size 640x480 with 2 Axes>"
      ]
     },
     "metadata": {},
     "output_type": "display_data"
    },
    {
     "name": "stdout",
     "output_type": "stream",
     "text": [
      "LOGISTIC REGRESSION WITH PIPELINE \n",
      "\n",
      "\n",
      "              precision    recall  f1-score   support\n",
      "\n",
      "           0       0.93      1.00      0.96        38\n",
      "           1       1.00      0.97      0.98        31\n",
      "           2       1.00      0.88      0.94        17\n",
      "\n",
      "    accuracy                           0.97        86\n",
      "   macro avg       0.98      0.95      0.96        86\n",
      "weighted avg       0.97      0.97      0.96        86\n",
      "\n"
     ]
    },
    {
     "data": {
      "text/html": [
       "<div>\n",
       "<style scoped>\n",
       "    .dataframe tbody tr th:only-of-type {\n",
       "        vertical-align: middle;\n",
       "    }\n",
       "\n",
       "    .dataframe tbody tr th {\n",
       "        vertical-align: top;\n",
       "    }\n",
       "\n",
       "    .dataframe thead th {\n",
       "        text-align: right;\n",
       "    }\n",
       "</style>\n",
       "<table border=\"1\" class=\"dataframe\">\n",
       "  <thead>\n",
       "    <tr style=\"text-align: right;\">\n",
       "      <th></th>\n",
       "      <th>Model</th>\n",
       "      <th>F1_score</th>\n",
       "    </tr>\n",
       "  </thead>\n",
       "  <tbody>\n",
       "    <tr>\n",
       "      <th>0</th>\n",
       "      <td>Logistic Regression with pipeline</td>\n",
       "      <td>0.964957</td>\n",
       "    </tr>\n",
       "  </tbody>\n",
       "</table>\n",
       "</div>"
      ],
      "text/plain": [
       "                               Model  F1_score\n",
       "0  Logistic Regression with pipeline  0.964957"
      ]
     },
     "metadata": {},
     "output_type": "display_data"
    }
   ],
   "source": [
    "show_stats('Logistic Regression with pipeline',predictions_1)"
   ]
  },
  {
   "cell_type": "code",
   "execution_count": null,
   "id": "ecc77b76",
   "metadata": {},
   "outputs": [],
   "source": []
  },
  {
   "cell_type": "code",
   "execution_count": 430,
   "id": "f87896dc",
   "metadata": {},
   "outputs": [],
   "source": [
    "X_test_2=X_test.copy()"
   ]
  },
  {
   "cell_type": "code",
   "execution_count": 431,
   "id": "06d18c98",
   "metadata": {},
   "outputs": [],
   "source": [
    "columns=list(X_test_2.columns)"
   ]
  },
  {
   "cell_type": "code",
   "execution_count": 432,
   "id": "4af0d422",
   "metadata": {},
   "outputs": [],
   "source": [
    "X_test_2[columns]=X_test_2[columns].fillna(X_test_2[columns].mean())"
   ]
  },
  {
   "cell_type": "code",
   "execution_count": 433,
   "id": "813aa8fa",
   "metadata": {},
   "outputs": [
    {
     "data": {
      "text/plain": [
       "CulmenLength     0\n",
       "CulmenDepth      0\n",
       "FlipperLength    0\n",
       "BodyMass         0\n",
       "dtype: int64"
      ]
     },
     "execution_count": 433,
     "metadata": {},
     "output_type": "execute_result"
    }
   ],
   "source": [
    "X_test_2.isnull().sum()"
   ]
  },
  {
   "cell_type": "code",
   "execution_count": 434,
   "id": "2cff3ee5",
   "metadata": {},
   "outputs": [],
   "source": [
    "X_test_2_scaled=StandardScaler().fit_transform(X_test_2)"
   ]
  },
  {
   "cell_type": "code",
   "execution_count": 435,
   "id": "217972b3",
   "metadata": {},
   "outputs": [],
   "source": [
    "# importowanie poprzedniego modelu i porównanie do aktualnego"
   ]
  },
  {
   "cell_type": "code",
   "execution_count": 436,
   "id": "97e1fa94",
   "metadata": {},
   "outputs": [],
   "source": [
    "import joblib\n",
    "lr_no_pipeline=joblib.load('lr_no_pipeline.pkl') "
   ]
  },
  {
   "cell_type": "code",
   "execution_count": 437,
   "id": "083a1097",
   "metadata": {},
   "outputs": [
    {
     "data": {
      "text/plain": [
       "<bound method BaseEstimator.get_params of LogisticRegression(C=0.1, penalty='l1', solver='liblinear')>"
      ]
     },
     "execution_count": 437,
     "metadata": {},
     "output_type": "execute_result"
    }
   ],
   "source": [
    "lr_no_pipeline.get_params"
   ]
  },
  {
   "cell_type": "code",
   "execution_count": 438,
   "id": "fb17222e",
   "metadata": {},
   "outputs": [],
   "source": [
    "predictions_2=lr_no_pipeline.predict(X_test_2_scaled)"
   ]
  },
  {
   "cell_type": "code",
   "execution_count": 439,
   "id": "5db0e7b0",
   "metadata": {},
   "outputs": [
    {
     "data": {
      "image/png": "[encoded data removed]",
      "text/plain": [
       "<Figure size 640x480 with 2 Axes>"
      ]
     },
     "metadata": {},
     "output_type": "display_data"
    },
    {
     "name": "stdout",
     "output_type": "stream",
     "text": [
      "LINEAR REGRESSION WITHOUT PIPELINE \n",
      "\n",
      "\n",
      "              precision    recall  f1-score   support\n",
      "\n",
      "           0       0.90      1.00      0.95        38\n",
      "           1       1.00      0.97      0.98        31\n",
      "           2       1.00      0.82      0.90        17\n",
      "\n",
      "    accuracy                           0.95        86\n",
      "   macro avg       0.97      0.93      0.95        86\n",
      "weighted avg       0.96      0.95      0.95        86\n",
      "\n"
     ]
    },
    {
     "data": {
      "text/html": [
       "<div>\n",
       "<style scoped>\n",
       "    .dataframe tbody tr th:only-of-type {\n",
       "        vertical-align: middle;\n",
       "    }\n",
       "\n",
       "    .dataframe tbody tr th {\n",
       "        vertical-align: top;\n",
       "    }\n",
       "\n",
       "    .dataframe thead th {\n",
       "        text-align: right;\n",
       "    }\n",
       "</style>\n",
       "<table border=\"1\" class=\"dataframe\">\n",
       "  <thead>\n",
       "    <tr style=\"text-align: right;\">\n",
       "      <th></th>\n",
       "      <th>Model</th>\n",
       "      <th>F1_score</th>\n",
       "    </tr>\n",
       "  </thead>\n",
       "  <tbody>\n",
       "    <tr>\n",
       "      <th>0</th>\n",
       "      <td>Logistic Regression with pipeline</td>\n",
       "      <td>0.964957</td>\n",
       "    </tr>\n",
       "    <tr>\n",
       "      <th>1</th>\n",
       "      <td>Linear Regression without pipeline</td>\n",
       "      <td>0.952868</td>\n",
       "    </tr>\n",
       "  </tbody>\n",
       "</table>\n",
       "</div>"
      ],
      "text/plain": [
       "                                Model  F1_score\n",
       "0   Logistic Regression with pipeline  0.964957\n",
       "1  Linear Regression without pipeline  0.952868"
      ]
     },
     "metadata": {},
     "output_type": "display_data"
    }
   ],
   "source": [
    "show_stats('Linear Regression without pipeline',predictions_2)"
   ]
  },
  {
   "cell_type": "code",
   "execution_count": null,
   "id": "7edb555e",
   "metadata": {},
   "outputs": [],
   "source": []
  }
 ],
 "metadata": {
  "kernelspec": {
   "display_name": "Python 3 (ipykernel)",
   "language": "python",
   "name": "python3"
  },
  "language_info": {
   "codemirror_mode": {
    "name": "ipython",
    "version": 3
   },
   "file_extension": ".py",
   "mimetype": "text/x-python",
   "name": "python",
   "nbconvert_exporter": "python",
   "pygments_lexer": "ipython3",
   "version": "3.11.4"
  }
 },
 "nbformat": 4,
 "nbformat_minor": 5
}
